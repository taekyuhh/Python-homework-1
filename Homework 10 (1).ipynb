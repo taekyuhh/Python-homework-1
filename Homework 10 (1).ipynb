{
 "cells": [
  {
   "cell_type": "markdown",
   "id": "42f618dc-be68-4b07-9136-f203dd38d9ed",
   "metadata": {},
   "source": [
    "## y = activation function (x*w+b) 라는 식의 아주 작은 ANN이 하나 있다고 해봅시다.\n",
    "- x : (2,)짜리 행렬 (값은 태규가 임의로 정해봅시다.)\n",
    "- w : (2, 3) 짜리 행렬 (값은 태규가 임의로 정해봅시다.)\n",
    "- b : (3,) 짜리 행렬 (값은 태규가 임의로 정해봅시다.)\n",
    "- activation function : sigmoid, relu, step function 3가지 모두 해보면서 값이 달라지는 것을 관찰해봅시다.\n",
    "\n"
   ]
  },
  {
   "cell_type": "code",
   "execution_count": 1,
   "id": "21e26759-c2f1-48eb-adca-9a06a1991eee",
   "metadata": {},
   "outputs": [],
   "source": [
    "import numpy as np\n",
    "import matplotlib.pyplot as plt"
   ]
  },
  {
   "cell_type": "code",
   "execution_count": 94,
   "id": "30afdaf9-5dc8-4e2a-9200-352a8b42fa2b",
   "metadata": {},
   "outputs": [
    {
     "data": {
      "text/plain": [
       "(2,)"
      ]
     },
     "execution_count": 94,
     "metadata": {},
     "output_type": "execute_result"
    }
   ],
   "source": [
    "x = np.array([1,2])\n",
    "x.shape"
   ]
  },
  {
   "cell_type": "code",
   "execution_count": 95,
   "id": "0d5a91dc-bfcc-4196-b461-f1cd98ebe892",
   "metadata": {},
   "outputs": [
    {
     "data": {
      "text/plain": [
       "array([1, 2])"
      ]
     },
     "execution_count": 95,
     "metadata": {},
     "output_type": "execute_result"
    }
   ],
   "source": [
    "x"
   ]
  },
  {
   "cell_type": "code",
   "execution_count": 105,
   "id": "d04eb1bb-f3b2-42ba-a104-2ea8c7c4adaa",
   "metadata": {},
   "outputs": [
    {
     "data": {
      "text/plain": [
       "(2, 3)"
      ]
     },
     "execution_count": 105,
     "metadata": {},
     "output_type": "execute_result"
    }
   ],
   "source": [
    "w = np.array([[1,3,2],[1,3,1]])\n",
    "w.shape"
   ]
  },
  {
   "cell_type": "code",
   "execution_count": 97,
   "id": "a5987879-bcaf-4614-be4c-480393b38270",
   "metadata": {},
   "outputs": [
    {
     "data": {
      "text/plain": [
       "(3,)"
      ]
     },
     "execution_count": 97,
     "metadata": {},
     "output_type": "execute_result"
    }
   ],
   "source": [
    "b = np.array([2,1,2])\n",
    "b.shape"
   ]
  },
  {
   "cell_type": "code",
   "execution_count": 107,
   "id": "279a9acf-e5dc-484b-8e8c-63d08431ede0",
   "metadata": {},
   "outputs": [
    {
     "data": {
      "text/plain": [
       "array([3, 9, 4])"
      ]
     },
     "execution_count": 107,
     "metadata": {},
     "output_type": "execute_result"
    }
   ],
   "source": [
    "np.dot(x,w)"
   ]
  },
  {
   "cell_type": "code",
   "execution_count": 108,
   "id": "5f593b6a-d7e6-4ca0-a0a6-2c9e55fc6878",
   "metadata": {},
   "outputs": [
    {
     "data": {
      "text/plain": [
       "array([ 5, 10,  6])"
      ]
     },
     "execution_count": 108,
     "metadata": {},
     "output_type": "execute_result"
    }
   ],
   "source": [
    "a = np.dot(x,w)+b\n",
    "a"
   ]
  },
  {
   "cell_type": "code",
   "execution_count": 109,
   "id": "b773bcdb-52be-42fa-8c52-bf77bab329b2",
   "metadata": {},
   "outputs": [],
   "source": [
    "def sigmoid(x):\n",
    "    return 1/(1+np.exp(-(x)))"
   ]
  },
  {
   "cell_type": "code",
   "execution_count": 110,
   "id": "ade408a6-d6a5-47a4-a4a9-d16c21f0651a",
   "metadata": {},
   "outputs": [
    {
     "data": {
      "text/plain": [
       "array([5. , 5.1, 5.2, 5.3, 5.4, 5.5, 5.6, 5.7, 5.8, 5.9])"
      ]
     },
     "execution_count": 110,
     "metadata": {},
     "output_type": "execute_result"
    }
   ],
   "source": [
    "a_range = np.arange(a[0],a[2],0.1)\n",
    "a_range"
   ]
  },
  {
   "cell_type": "code",
   "execution_count": 111,
   "id": "43d00e03-bf1c-498e-89f7-da9fc31f3b7b",
   "metadata": {},
   "outputs": [],
   "source": [
    "y = sigmoid(a_range)"
   ]
  },
  {
   "cell_type": "code",
   "execution_count": 112,
   "id": "78290f43-fa59-4784-b46e-f3349a51c327",
   "metadata": {},
   "outputs": [
    {
     "data": {
      "image/png": "[encoded data removed]",
      "text/plain": [
       "<Figure size 640x480 with 1 Axes>"
      ]
     },
     "metadata": {},
     "output_type": "display_data"
    }
   ],
   "source": [
    "plt.plot(a_range,y,label='sigmoid function')\n",
    "plt.legend()\n",
    "plt.show()"
   ]
  },
  {
   "cell_type": "markdown",
   "id": "44f6d636-6d51-47bf-9e5c-75bddfb40c04",
   "metadata": {},
   "source": [
    "### Step Function"
   ]
  },
  {
   "cell_type": "code",
   "execution_count": 113,
   "id": "f095f0d5-97e5-489f-ab12-1d81368c8945",
   "metadata": {},
   "outputs": [],
   "source": [
    "def step_function(x):\n",
    "    return int(x>0)"
   ]
  },
  {
   "cell_type": "code",
   "execution_count": 114,
   "id": "d9a1ba69-440d-4641-bbfc-ce9df4f8c28a",
   "metadata": {},
   "outputs": [],
   "source": [
    "def step_function(x):\n",
    "    return np.array(x>0, dtype = np.int32)"
   ]
  },
  {
   "cell_type": "code",
   "execution_count": 117,
   "id": "066ab524-42b5-4661-8f3e-bbabd154848c",
   "metadata": {},
   "outputs": [],
   "source": [
    "a_range = np.arange(-a[0],a[2])"
   ]
  },
  {
   "cell_type": "code",
   "execution_count": 118,
   "id": "f31b3352-9696-4965-b489-f090957f3c49",
   "metadata": {},
   "outputs": [
    {
     "data": {
      "text/plain": [
       "[<matplotlib.lines.Line2D at 0x26755c1c550>]"
      ]
     },
     "execution_count": 118,
     "metadata": {},
     "output_type": "execute_result"
    },
    {
     "data": {
      "image/png": "[encoded data removed]",
      "text/plain": [
       "<Figure size 640x480 with 1 Axes>"
      ]
     },
     "metadata": {},
     "output_type": "display_data"
    }
   ],
   "source": [
    "plt.plot(a_range, step_function(a_range), label = 'step function')"
   ]
  },
  {
   "cell_type": "code",
   "execution_count": 119,
   "id": "1af00c9d-ca0d-4c18-9abf-3637d832f86a",
   "metadata": {},
   "outputs": [],
   "source": [
    "def relu(x):\n",
    "    return np.maximum(0,x)"
   ]
  },
  {
   "cell_type": "code",
   "execution_count": 120,
   "id": "9dc4f926-5afe-4df1-900c-ea2e56d6c486",
   "metadata": {},
   "outputs": [
    {
     "data": {
      "image/png": "[encoded data removed]",
      "text/plain": [
       "<Figure size 640x480 with 1 Axes>"
      ]
     },
     "metadata": {},
     "output_type": "display_data"
    }
   ],
   "source": [
    "plt.plot(a_range, relu(a_range),label='relu function')\n",
    "plt.legend()\n",
    "plt.show()"
   ]
  },
  {
   "cell_type": "code",
   "execution_count": null,
   "id": "ea6de527-395f-4895-9fcc-a51015b0d29a",
   "metadata": {},
   "outputs": [],
   "source": []
  }
 ],
 "metadata": {
  "kernelspec": {
   "display_name": "Python 3 (ipykernel)",
   "language": "python",
   "name": "python3"
  },
  "language_info": {
   "codemirror_mode": {
    "name": "ipython",
    "version": 3
   },
   "file_extension": ".py",
   "mimetype": "text/x-python",
   "name": "python",
   "nbconvert_exporter": "python",
   "pygments_lexer": "ipython3",
   "version": "3.13.2"
  }
 },
 "nbformat": 4,
 "nbformat_minor": 5
}
